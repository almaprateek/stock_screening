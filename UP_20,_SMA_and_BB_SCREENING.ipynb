{
  "nbformat": 4,
  "nbformat_minor": 0,
  "metadata": {
    "colab": {
      "name": "UP-20, SMA and BB  SCREENING.ipynb",
      "provenance": [],
      "collapsed_sections": [],
      "include_colab_link": true
    },
    "kernelspec": {
      "display_name": "Python 3",
      "name": "python3"
    },
    "language_info": {
      "name": "python"
    }
  },
  "cells": [
    {
      "cell_type": "markdown",
      "metadata": {
        "id": "view-in-github",
        "colab_type": "text"
      },
      "source": [
        "<a href=\"https://colab.research.google.com/github/almaprateek/stock_screening/blob/main/UP_20%2C_SMA_and_BB_SCREENING.ipynb\" target=\"_parent\"><img src=\"https://colab.research.google.com/assets/colab-badge.svg\" alt=\"Open In Colab\"/></a>"
      ]
    },
    {
      "cell_type": "code",
      "metadata": {
        "id": "5dwHAhE6fs00"
      },
      "source": [
        "# to upgrade libraries\n",
        "\n",
        "# !pip install --upgrade pandas\n",
        "# !pip install numpy --upgrade --ignore-installed\n",
        "# !pip install --upgrade pandas-datareader\n",
        "# !pip install numpy --upgrade\n"
      ],
      "execution_count": null,
      "outputs": []
    },
    {
      "cell_type": "code",
      "metadata": {
        "id": "kh_V-_tygDMg"
      },
      "source": [
        "# to Upgrade python\n",
        "\n",
        "# !add-apt-repository ppa:deadsnakes/ppa\n",
        "# !apt-get update\n",
        "# !apt-get install python3.5\n",
        "# !apt-get install python3.5-dev\n",
        "\n",
        "# !wget https://bootstrap.pypa.io/get-pip.py && python3.5 get-pip.py\n",
        "  \n",
        "# import sys\n",
        "\n",
        "# sys.path[2] = '/usr/lib/python35.zip'\n",
        "# sys.path[3] = '/usr/lib/python3.5'\n",
        "# sys.path[4] = '/usr/lib/python3.5/lib-dynload'\n",
        "# sys.path[5] = '/usr/local/lib/python3.5/dist-packages'\n",
        "# sys.path[7] ='/usr/local/lib/python3.5/dist-packages/IPython/extensions'"
      ],
      "execution_count": null,
      "outputs": []
    },
    {
      "cell_type": "code",
      "metadata": {
        "colab": {
          "base_uri": "https://localhost:8080/"
        },
        "id": "IfZM3u3BqaHC",
        "outputId": "097326f0-91d1-4a7c-dbcc-224c8a528422"
      },
      "source": [
        "# Install yfinance and matplotlib package if not installed:\n",
        "!pip install yfinance\n",
        "!pip install matplotlib\n",
        "\n"
      ],
      "execution_count": null,
      "outputs": [
        {
          "output_type": "stream",
          "name": "stdout",
          "text": [
            "Requirement already satisfied: yfinance in /usr/local/lib/python3.7/dist-packages (0.1.67)\n",
            "Requirement already satisfied: pandas>=0.24 in /usr/local/lib/python3.7/dist-packages (from yfinance) (1.1.5)\n",
            "Requirement already satisfied: numpy>=1.15 in /usr/local/lib/python3.7/dist-packages (from yfinance) (1.19.5)\n",
            "Requirement already satisfied: lxml>=4.5.1 in /usr/local/lib/python3.7/dist-packages (from yfinance) (4.7.1)\n",
            "Requirement already satisfied: multitasking>=0.0.7 in /usr/local/lib/python3.7/dist-packages (from yfinance) (0.0.10)\n",
            "Requirement already satisfied: requests>=2.20 in /usr/local/lib/python3.7/dist-packages (from yfinance) (2.23.0)\n",
            "Requirement already satisfied: pytz>=2017.2 in /usr/local/lib/python3.7/dist-packages (from pandas>=0.24->yfinance) (2018.9)\n",
            "Requirement already satisfied: python-dateutil>=2.7.3 in /usr/local/lib/python3.7/dist-packages (from pandas>=0.24->yfinance) (2.8.2)\n",
            "Requirement already satisfied: six>=1.5 in /usr/local/lib/python3.7/dist-packages (from python-dateutil>=2.7.3->pandas>=0.24->yfinance) (1.15.0)\n",
            "Requirement already satisfied: urllib3!=1.25.0,!=1.25.1,<1.26,>=1.21.1 in /usr/local/lib/python3.7/dist-packages (from requests>=2.20->yfinance) (1.24.3)\n",
            "Requirement already satisfied: certifi>=2017.4.17 in /usr/local/lib/python3.7/dist-packages (from requests>=2.20->yfinance) (2021.10.8)\n",
            "Requirement already satisfied: chardet<4,>=3.0.2 in /usr/local/lib/python3.7/dist-packages (from requests>=2.20->yfinance) (3.0.4)\n",
            "Requirement already satisfied: idna<3,>=2.5 in /usr/local/lib/python3.7/dist-packages (from requests>=2.20->yfinance) (2.10)\n",
            "Requirement already satisfied: matplotlib in /usr/local/lib/python3.7/dist-packages (3.2.2)\n",
            "Requirement already satisfied: numpy>=1.11 in /usr/local/lib/python3.7/dist-packages (from matplotlib) (1.19.5)\n",
            "Requirement already satisfied: pyparsing!=2.0.4,!=2.1.2,!=2.1.6,>=2.0.1 in /usr/local/lib/python3.7/dist-packages (from matplotlib) (3.0.6)\n",
            "Requirement already satisfied: cycler>=0.10 in /usr/local/lib/python3.7/dist-packages (from matplotlib) (0.11.0)\n",
            "Requirement already satisfied: kiwisolver>=1.0.1 in /usr/local/lib/python3.7/dist-packages (from matplotlib) (1.3.2)\n",
            "Requirement already satisfied: python-dateutil>=2.1 in /usr/local/lib/python3.7/dist-packages (from matplotlib) (2.8.2)\n",
            "Requirement already satisfied: six>=1.5 in /usr/local/lib/python3.7/dist-packages (from python-dateutil>=2.1->matplotlib) (1.15.0)\n"
          ]
        }
      ]
    },
    {
      "cell_type": "code",
      "metadata": {
        "id": "z2-90HAufRcL"
      },
      "source": [
        "# Import yfinance and matplotlib\n",
        "import yfinance as yf  \n",
        "import matplotlib.pyplot as plt"
      ],
      "execution_count": null,
      "outputs": []
    },
    {
      "cell_type": "code",
      "metadata": {
        "id": "ZcrYlyz-slsH"
      },
      "source": [
        "from datetime import date\n",
        "from datetime import timedelta"
      ],
      "execution_count": null,
      "outputs": []
    },
    {
      "cell_type": "code",
      "metadata": {
        "id": "1_77fFpy5Akr"
      },
      "source": [
        "import pandas as pd\n",
        "import numpy as np"
      ],
      "execution_count": null,
      "outputs": []
    },
    {
      "cell_type": "code",
      "metadata": {
        "colab": {
          "base_uri": "https://localhost:8080/"
        },
        "id": "oKaj-LQ5P3nc",
        "outputId": "36885309-5133-4074-9cc0-331a06e48dbe"
      },
      "source": [
        "from google.colab import drive\n",
        "drive.mount('/content/drive')"
      ],
      "execution_count": null,
      "outputs": [
        {
          "output_type": "stream",
          "name": "stdout",
          "text": [
            "Drive already mounted at /content/drive; to attempt to forcibly remount, call drive.mount(\"/content/drive\", force_remount=True).\n"
          ]
        }
      ]
    },
    {
      "cell_type": "code",
      "metadata": {
        "id": "PXMZbWOWv8MN"
      },
      "source": [
        "# comp_csv_file = pd.read_csv('/content/drive/MyDrive/STOCKS/Super company lists/S250_10_25_2021.csv')"
      ],
      "execution_count": null,
      "outputs": []
    },
    {
      "cell_type": "code",
      "source": [
        "comp_csv_file = pd.read_csv('/content/drive/MyDrive/STOCKS/Super company lists/S40 AND S40 NXT JAN.csv')"
      ],
      "metadata": {
        "id": "Qht80aAThNSx"
      },
      "execution_count": null,
      "outputs": []
    },
    {
      "cell_type": "code",
      "source": [
        "comp_csv_file"
      ],
      "metadata": {
        "colab": {
          "base_uri": "https://localhost:8080/",
          "height": 424
        },
        "id": "HAT20Z97RE8K",
        "outputId": "0098da66-d06e-4cbb-bac1-4e2ad976c951"
      },
      "execution_count": null,
      "outputs": [
        {
          "output_type": "execute_result",
          "data": {
            "text/html": [
              "\n",
              "  <div id=\"df-58af4b30-307e-4306-93e0-8978967905a6\">\n",
              "    <div class=\"colab-df-container\">\n",
              "      <div>\n",
              "<style scoped>\n",
              "    .dataframe tbody tr th:only-of-type {\n",
              "        vertical-align: middle;\n",
              "    }\n",
              "\n",
              "    .dataframe tbody tr th {\n",
              "        vertical-align: top;\n",
              "    }\n",
              "\n",
              "    .dataframe thead th {\n",
              "        text-align: right;\n",
              "    }\n",
              "</style>\n",
              "<table border=\"1\" class=\"dataframe\">\n",
              "  <thead>\n",
              "    <tr style=\"text-align: right;\">\n",
              "      <th></th>\n",
              "      <th>S40</th>\n",
              "      <th>S40 NEXT</th>\n",
              "    </tr>\n",
              "  </thead>\n",
              "  <tbody>\n",
              "    <tr>\n",
              "      <th>0</th>\n",
              "      <td>TCS</td>\n",
              "      <td>ABB</td>\n",
              "    </tr>\n",
              "    <tr>\n",
              "      <th>1</th>\n",
              "      <td>INFY</td>\n",
              "      <td>PIIND</td>\n",
              "    </tr>\n",
              "    <tr>\n",
              "      <th>2</th>\n",
              "      <td>HINDUNILVR</td>\n",
              "      <td>PAGEIND</td>\n",
              "    </tr>\n",
              "    <tr>\n",
              "      <th>3</th>\n",
              "      <td>WIPRO</td>\n",
              "      <td>ASTRAL</td>\n",
              "    </tr>\n",
              "    <tr>\n",
              "      <th>4</th>\n",
              "      <td>HCLTECH</td>\n",
              "      <td>UBL</td>\n",
              "    </tr>\n",
              "    <tr>\n",
              "      <th>...</th>\n",
              "      <td>...</td>\n",
              "      <td>...</td>\n",
              "    </tr>\n",
              "    <tr>\n",
              "      <th>57</th>\n",
              "      <td>NaN</td>\n",
              "      <td>SUMICHEM</td>\n",
              "    </tr>\n",
              "    <tr>\n",
              "      <th>58</th>\n",
              "      <td>NaN</td>\n",
              "      <td>SKFINDIA</td>\n",
              "    </tr>\n",
              "    <tr>\n",
              "      <th>59</th>\n",
              "      <td>NaN</td>\n",
              "      <td>SANOFI</td>\n",
              "    </tr>\n",
              "    <tr>\n",
              "      <th>60</th>\n",
              "      <td>NaN</td>\n",
              "      <td>GILLETTE</td>\n",
              "    </tr>\n",
              "    <tr>\n",
              "      <th>61</th>\n",
              "      <td>NaN</td>\n",
              "      <td>CARBORUNIV</td>\n",
              "    </tr>\n",
              "  </tbody>\n",
              "</table>\n",
              "<p>62 rows × 2 columns</p>\n",
              "</div>\n",
              "      <button class=\"colab-df-convert\" onclick=\"convertToInteractive('df-58af4b30-307e-4306-93e0-8978967905a6')\"\n",
              "              title=\"Convert this dataframe to an interactive table.\"\n",
              "              style=\"display:none;\">\n",
              "        \n",
              "  <svg xmlns=\"http://www.w3.org/2000/svg\" height=\"24px\"viewBox=\"0 0 24 24\"\n",
              "       width=\"24px\">\n",
              "    <path d=\"M0 0h24v24H0V0z\" fill=\"none\"/>\n",
              "    <path d=\"M18.56 5.44l.94 2.06.94-2.06 2.06-.94-2.06-.94-.94-2.06-.94 2.06-2.06.94zm-11 1L8.5 8.5l.94-2.06 2.06-.94-2.06-.94L8.5 2.5l-.94 2.06-2.06.94zm10 10l.94 2.06.94-2.06 2.06-.94-2.06-.94-.94-2.06-.94 2.06-2.06.94z\"/><path d=\"M17.41 7.96l-1.37-1.37c-.4-.4-.92-.59-1.43-.59-.52 0-1.04.2-1.43.59L10.3 9.45l-7.72 7.72c-.78.78-.78 2.05 0 2.83L4 21.41c.39.39.9.59 1.41.59.51 0 1.02-.2 1.41-.59l7.78-7.78 2.81-2.81c.8-.78.8-2.07 0-2.86zM5.41 20L4 18.59l7.72-7.72 1.47 1.35L5.41 20z\"/>\n",
              "  </svg>\n",
              "      </button>\n",
              "      \n",
              "  <style>\n",
              "    .colab-df-container {\n",
              "      display:flex;\n",
              "      flex-wrap:wrap;\n",
              "      gap: 12px;\n",
              "    }\n",
              "\n",
              "    .colab-df-convert {\n",
              "      background-color: #E8F0FE;\n",
              "      border: none;\n",
              "      border-radius: 50%;\n",
              "      cursor: pointer;\n",
              "      display: none;\n",
              "      fill: #1967D2;\n",
              "      height: 32px;\n",
              "      padding: 0 0 0 0;\n",
              "      width: 32px;\n",
              "    }\n",
              "\n",
              "    .colab-df-convert:hover {\n",
              "      background-color: #E2EBFA;\n",
              "      box-shadow: 0px 1px 2px rgba(60, 64, 67, 0.3), 0px 1px 3px 1px rgba(60, 64, 67, 0.15);\n",
              "      fill: #174EA6;\n",
              "    }\n",
              "\n",
              "    [theme=dark] .colab-df-convert {\n",
              "      background-color: #3B4455;\n",
              "      fill: #D2E3FC;\n",
              "    }\n",
              "\n",
              "    [theme=dark] .colab-df-convert:hover {\n",
              "      background-color: #434B5C;\n",
              "      box-shadow: 0px 1px 3px 1px rgba(0, 0, 0, 0.15);\n",
              "      filter: drop-shadow(0px 1px 2px rgba(0, 0, 0, 0.3));\n",
              "      fill: #FFFFFF;\n",
              "    }\n",
              "  </style>\n",
              "\n",
              "      <script>\n",
              "        const buttonEl =\n",
              "          document.querySelector('#df-58af4b30-307e-4306-93e0-8978967905a6 button.colab-df-convert');\n",
              "        buttonEl.style.display =\n",
              "          google.colab.kernel.accessAllowed ? 'block' : 'none';\n",
              "\n",
              "        async function convertToInteractive(key) {\n",
              "          const element = document.querySelector('#df-58af4b30-307e-4306-93e0-8978967905a6');\n",
              "          const dataTable =\n",
              "            await google.colab.kernel.invokeFunction('convertToInteractive',\n",
              "                                                     [key], {});\n",
              "          if (!dataTable) return;\n",
              "\n",
              "          const docLinkHtml = 'Like what you see? Visit the ' +\n",
              "            '<a target=\"_blank\" href=https://colab.research.google.com/notebooks/data_table.ipynb>data table notebook</a>'\n",
              "            + ' to learn more about interactive tables.';\n",
              "          element.innerHTML = '';\n",
              "          dataTable['output_type'] = 'display_data';\n",
              "          await google.colab.output.renderOutput(dataTable, element);\n",
              "          const docLink = document.createElement('div');\n",
              "          docLink.innerHTML = docLinkHtml;\n",
              "          element.appendChild(docLink);\n",
              "        }\n",
              "      </script>\n",
              "    </div>\n",
              "  </div>\n",
              "  "
            ],
            "text/plain": [
              "          S40     S40 NEXT\n",
              "0          TCS         ABB\n",
              "1         INFY       PIIND\n",
              "2   HINDUNILVR     PAGEIND\n",
              "3        WIPRO      ASTRAL\n",
              "4      HCLTECH         UBL\n",
              "..         ...         ...\n",
              "57         NaN    SUMICHEM\n",
              "58         NaN    SKFINDIA\n",
              "59         NaN      SANOFI\n",
              "60         NaN    GILLETTE\n",
              "61         NaN  CARBORUNIV\n",
              "\n",
              "[62 rows x 2 columns]"
            ]
          },
          "metadata": {},
          "execution_count": 240
        }
      ]
    },
    {
      "cell_type": "code",
      "source": [
        "# if applying for s40 then first drop null values\n",
        "# comp_csv_file.dropna(inplace = True)\n",
        "# copm_list = comp_csv_file[\"S40 \"].tolist()"
      ],
      "metadata": {
        "id": "sSlcyOw3jn1S"
      },
      "execution_count": null,
      "outputs": []
    },
    {
      "cell_type": "code",
      "source": [
        "copm_list = comp_csv_file[\"S40 NEXT\"].tolist()"
      ],
      "metadata": {
        "id": "5QAkEH_qQAaq"
      },
      "execution_count": null,
      "outputs": []
    },
    {
      "cell_type": "code",
      "metadata": {
        "id": "IXabMMjH0W2f"
      },
      "source": [
        "ticker = []\n",
        "for company in copm_list:\n",
        "  ticker.append(company + '.NS')"
      ],
      "execution_count": null,
      "outputs": []
    },
    {
      "cell_type": "code",
      "metadata": {
        "colab": {
          "base_uri": "https://localhost:8080/"
        },
        "id": "rJqkL3__XqP_",
        "outputId": "7371aae3-b7da-4bca-9741-a05847443d9b"
      },
      "source": [
        "ticker"
      ],
      "execution_count": null,
      "outputs": [
        {
          "output_type": "execute_result",
          "data": {
            "text/plain": [
              "['ABB.NS',\n",
              " 'PIIND.NS',\n",
              " 'PAGEIND.NS',\n",
              " 'ASTRAL.NS',\n",
              " 'UBL.NS',\n",
              " 'HAL.NS',\n",
              " 'ACC.NS',\n",
              " 'COLPAL.NS',\n",
              " 'VOLTAS.NS',\n",
              " 'ABBOTINDIA.NS',\n",
              " 'NMDC.NS',\n",
              " 'CONCOR.NS',\n",
              " 'HONAUT.NS',\n",
              " 'PERSISTENT.NS',\n",
              " 'POLYCAB.NS',\n",
              " 'IGL.NS',\n",
              " 'COFORGE.NS',\n",
              " 'TATAELXSI.NS',\n",
              " 'OFSS.NS',\n",
              " 'MFSL.NS',\n",
              " 'ZEEL.NS',\n",
              " 'KANSAINER.NS',\n",
              " 'RELAXO.NS',\n",
              " 'MRF.NS',\n",
              " 'GLAXO.NS',\n",
              " 'LALPATHLAB.NS',\n",
              " '3MINDIA.NS',\n",
              " 'SUPREMEIND.NS',\n",
              " 'SCHAEFFLER.NS',\n",
              " 'ATUL.NS',\n",
              " 'TANLA.NS',\n",
              " 'IPCALAB.NS',\n",
              " 'CLEAN.NS',\n",
              " 'CUMMINSIND.NS',\n",
              " 'ESCORTS.NS',\n",
              " 'GICRE.NS',\n",
              " 'EMAMILTD.NS',\n",
              " 'PFIZER.NS',\n",
              " 'IEX.NS',\n",
              " 'WHIRLPOOL.NS',\n",
              " 'NIACL.NS',\n",
              " 'RAJESHEXPO.NS',\n",
              " 'COROMANDEL.NS',\n",
              " 'CRISIL.NS',\n",
              " 'BAYERCROP.NS',\n",
              " 'NAM_INDIA.NS',\n",
              " 'THERMAX.NS',\n",
              " 'LINDEINDIA.NS',\n",
              " 'NAVINFLUOR.NS',\n",
              " 'GRINDWELL.NS',\n",
              " 'VINATIORGA.NS',\n",
              " 'BCG.NS',\n",
              " 'INDIAMART.NS',\n",
              " 'KAJARIACER.NS',\n",
              " 'SUNTV.NS',\n",
              " 'NATIONALUM.NS',\n",
              " 'AJANTPHARM.NS',\n",
              " 'SUMICHEM.NS',\n",
              " 'SKFINDIA.NS',\n",
              " 'SANOFI.NS',\n",
              " 'GILLETTE.NS',\n",
              " 'CARBORUNIV.NS']"
            ]
          },
          "metadata": {},
          "execution_count": 244
        }
      ]
    },
    {
      "cell_type": "markdown",
      "metadata": {
        "id": "hAGy7-RA6Qcm"
      },
      "source": [
        "#### the code is here"
      ]
    },
    {
      "cell_type": "code",
      "metadata": {
        "id": "l7Hiwcag6U2m"
      },
      "source": [
        "today = date.today()\n",
        "back_year = today - timedelta(days = 367)"
      ],
      "execution_count": null,
      "outputs": []
    },
    {
      "cell_type": "code",
      "metadata": {
        "id": "6hGnwEc0kmMo"
      },
      "source": [
        "def up20_wizard (data, number_of_rows) :\n",
        "  try:\n",
        "    i = number_of_rows - 1\n",
        "    result_index = 0\n",
        "    while i > 1 :\n",
        "      diff = data.Close[i] - data.Open[i]\n",
        "      if diff > 0 :\n",
        "        final = data.High[i]\n",
        "        initial = data.Low[i]\n",
        "        j = i - 1\n",
        "        diff2 = data.Close[j] - data.Open[j]\n",
        "        if diff2 > 0 :\n",
        "          initial = data.Low[j]\n",
        "          k = j - 1\n",
        "          diff3 = data.Close[k] - data.Open[k]\n",
        "          if diff3 > 0 :\n",
        "            initial = data.Low[k]\n",
        "            per = ((final - initial) * 100) / initial\n",
        "            if per >= 18 :\n",
        "              result_index = k\n",
        "              break\n",
        "\n",
        "            else:\n",
        "              i = i - 1\n",
        "\n",
        "          else: \n",
        "            per = ((final - initial) * 100) / initial\n",
        "            if per >= 18 :\n",
        "              result_index = j\n",
        "              break \n",
        "\n",
        "            else:\n",
        "              i = i - 1  \n",
        "\n",
        "        else:\n",
        "          per = ((final - initial) * 100) / initial\n",
        "          if per >= 18 :\n",
        "            result_index = i\n",
        "            break \n",
        "\n",
        "          else:\n",
        "            i = i - 1 \n",
        "\n",
        "      else:\n",
        "        i = i - 1\n",
        "\n",
        "    if i < 2 :\n",
        "      return None , None\n",
        "\n",
        "    else :\n",
        "      return data.Low[result_index] , data.index[result_index]\n",
        "\n",
        "  except:\n",
        "    return None , None"
      ],
      "execution_count": null,
      "outputs": []
    },
    {
      "cell_type": "code",
      "metadata": {
        "id": "NPodYklayv-H"
      },
      "source": [
        "def get_sma(prices, rate):\n",
        "  '''this function gives us the moving average'''\n",
        "  return prices.rolling(rate).mean()"
      ],
      "execution_count": null,
      "outputs": []
    },
    {
      "cell_type": "code",
      "source": [
        "def get_bollinger_bands(prices, rate=20):\n",
        "  '''this function gives us upper and lower bollinger band levels'''\n",
        "  sma = get_sma(prices, rate)\n",
        "  std = prices.rolling(rate).std()\n",
        "  bollinger_up = sma + std * 2 # Calculate top band\n",
        "  bollinger_down = sma - std * 2 # Calculate bottom band\n",
        "  return bollinger_up, bollinger_down"
      ],
      "metadata": {
        "id": "yEC1zNLigDT9"
      },
      "execution_count": null,
      "outputs": []
    },
    {
      "cell_type": "code",
      "source": [
        "slot_len = int(len(ticker)/4)\n",
        "\n",
        "new_ticker = []\n",
        "a = 0\n",
        "b = slot_len\n",
        "for i in range(4) :\n",
        "  dummy_list = ticker[a:b]\n",
        "  new_ticker.append(dummy_list)\n",
        "  a = b\n",
        "  b = b + slot_len\n",
        "\n",
        "if len(ticker) % 4 != 0 :\n",
        "  end_slot_len = len(ticker) % 4\n",
        "  dummy_list = ticker[-end_slot_len:]\n",
        "  new_ticker.append(dummy_list)\n",
        "\n",
        "\n"
      ],
      "metadata": {
        "id": "Zy_kcMJBIRSv"
      },
      "execution_count": null,
      "outputs": []
    },
    {
      "cell_type": "code",
      "source": [
        "len(new_ticker)"
      ],
      "metadata": {
        "colab": {
          "base_uri": "https://localhost:8080/"
        },
        "id": "GvO4I2GOLV79",
        "outputId": "5ed4cd22-4ce7-4b5a-f12d-030e0535b4bd"
      },
      "execution_count": null,
      "outputs": [
        {
          "output_type": "execute_result",
          "data": {
            "text/plain": [
              "5"
            ]
          },
          "metadata": {},
          "execution_count": 250
        }
      ]
    },
    {
      "cell_type": "code",
      "source": [
        "new_ticker"
      ],
      "metadata": {
        "colab": {
          "base_uri": "https://localhost:8080/"
        },
        "id": "8-61yDzUL1rB",
        "outputId": "60de42bb-6e22-4579-889e-061ac3f71735"
      },
      "execution_count": null,
      "outputs": [
        {
          "output_type": "execute_result",
          "data": {
            "text/plain": [
              "[['ABB.NS',\n",
              "  'PIIND.NS',\n",
              "  'PAGEIND.NS',\n",
              "  'ASTRAL.NS',\n",
              "  'UBL.NS',\n",
              "  'HAL.NS',\n",
              "  'ACC.NS',\n",
              "  'COLPAL.NS',\n",
              "  'VOLTAS.NS',\n",
              "  'ABBOTINDIA.NS',\n",
              "  'NMDC.NS',\n",
              "  'CONCOR.NS',\n",
              "  'HONAUT.NS',\n",
              "  'PERSISTENT.NS',\n",
              "  'POLYCAB.NS'],\n",
              " ['IGL.NS',\n",
              "  'COFORGE.NS',\n",
              "  'TATAELXSI.NS',\n",
              "  'OFSS.NS',\n",
              "  'MFSL.NS',\n",
              "  'ZEEL.NS',\n",
              "  'KANSAINER.NS',\n",
              "  'RELAXO.NS',\n",
              "  'MRF.NS',\n",
              "  'GLAXO.NS',\n",
              "  'LALPATHLAB.NS',\n",
              "  '3MINDIA.NS',\n",
              "  'SUPREMEIND.NS',\n",
              "  'SCHAEFFLER.NS',\n",
              "  'ATUL.NS'],\n",
              " ['TANLA.NS',\n",
              "  'IPCALAB.NS',\n",
              "  'CLEAN.NS',\n",
              "  'CUMMINSIND.NS',\n",
              "  'ESCORTS.NS',\n",
              "  'GICRE.NS',\n",
              "  'EMAMILTD.NS',\n",
              "  'PFIZER.NS',\n",
              "  'IEX.NS',\n",
              "  'WHIRLPOOL.NS',\n",
              "  'NIACL.NS',\n",
              "  'RAJESHEXPO.NS',\n",
              "  'COROMANDEL.NS',\n",
              "  'CRISIL.NS',\n",
              "  'BAYERCROP.NS'],\n",
              " ['NAM_INDIA.NS',\n",
              "  'THERMAX.NS',\n",
              "  'LINDEINDIA.NS',\n",
              "  'NAVINFLUOR.NS',\n",
              "  'GRINDWELL.NS',\n",
              "  'VINATIORGA.NS',\n",
              "  'BCG.NS',\n",
              "  'INDIAMART.NS',\n",
              "  'KAJARIACER.NS',\n",
              "  'SUNTV.NS',\n",
              "  'NATIONALUM.NS',\n",
              "  'AJANTPHARM.NS',\n",
              "  'SUMICHEM.NS',\n",
              "  'SKFINDIA.NS',\n",
              "  'SANOFI.NS'],\n",
              " ['GILLETTE.NS', 'CARBORUNIV.NS']]"
            ]
          },
          "metadata": {},
          "execution_count": 251
        }
      ]
    },
    {
      "cell_type": "code",
      "metadata": {
        "colab": {
          "base_uri": "https://localhost:8080/"
        },
        "id": "qMaLhg0B5jOf",
        "outputId": "326570bd-8d20-47db-db20-ba1dad153e44"
      },
      "source": [
        "\n",
        "s_level = []\n",
        "s_date = []\n",
        "s_comp = []\n",
        "s_ltp = []\n",
        "sma_comp =[]\n",
        "bb_comp = []\n",
        "for i in range(len(new_ticker)) :\n",
        "  tic = new_ticker[i]\n",
        "  try:\n",
        "    for company in tic :\n",
        "\n",
        "      # Code for up20 starts here\n",
        "      data = yf.download(company,back_year,today)\n",
        "      index = data.index\n",
        "      number_of_rows = len(index)\n",
        "      level , dt = up20_wizard (data, number_of_rows)\n",
        "      if level == None :\n",
        "        pass\n",
        "\n",
        "      else:\n",
        "        s_level.append(level)\n",
        "        s_date.append(dt)\n",
        "        s_comp.append(company)\n",
        "        s_ltp.append(data.Close[number_of_rows - 1])\n",
        "        # if level >= (data.Close[number_of_rows - 1]) :\n",
        "        #   print(f'{company}  {level}')\n",
        "\n",
        "\n",
        "      # code for SMA starts here\n",
        "      closing_prices = data['Close'] # Use only closing prices\n",
        "      sma20 = get_sma(closing_prices, 20) # Get 20 day SMA\n",
        "      sma50 = get_sma(closing_prices, 50) # Get 50 day SMA\n",
        "      sma100 = get_sma(closing_prices, 100) # Get 100 day SMA\n",
        "      # CHECKING WETHER STOCK IS IN LEVEL OF SMA STRATAGEY\n",
        "      if sma20.iloc[-1] < sma50.iloc[-1]  and  sma20.iloc[-1] < sma100.iloc[-1] and  sma50.iloc[-1] < sma100.iloc[-1] and data['Close'].iloc[-1] < sma20.iloc[-1]:\n",
        "        sma_comp.append(company)\n",
        "      \n",
        "      # code for BB starts here\n",
        "      bollinger_up, bollinger_down = get_bollinger_bands(closing_prices)\n",
        "      if bollinger_down.iloc[-2] > data['Close'].iloc[-2] and data['Close'].iloc[-1] > data['Open'].iloc[-1] and bollinger_down.iloc[-1] < data['Close'].iloc[-1] and  data['Close'].iloc[-2] < data['Open'].iloc[-2]  :\n",
        "        bb_comp.append(company)\n",
        "      \n",
        "      print(company)\n",
        "       \n",
        "\n",
        "\n",
        "  except:\n",
        "    pass\n",
        "  "
      ],
      "execution_count": null,
      "outputs": [
        {
          "output_type": "stream",
          "name": "stdout",
          "text": [
            "[*********************100%***********************]  1 of 1 completed\n",
            "ABB.NS\n",
            "[*********************100%***********************]  1 of 1 completed\n",
            "PIIND.NS\n",
            "[*********************100%***********************]  1 of 1 completed\n",
            "PAGEIND.NS\n",
            "[*********************100%***********************]  1 of 1 completed\n",
            "ASTRAL.NS\n",
            "[*********************100%***********************]  1 of 1 completed\n",
            "UBL.NS\n",
            "[*********************100%***********************]  1 of 1 completed\n",
            "HAL.NS\n",
            "[*********************100%***********************]  1 of 1 completed\n",
            "ACC.NS\n",
            "[*********************100%***********************]  1 of 1 completed\n",
            "COLPAL.NS\n",
            "[*********************100%***********************]  1 of 1 completed\n",
            "VOLTAS.NS\n",
            "[*********************100%***********************]  1 of 1 completed\n",
            "ABBOTINDIA.NS\n",
            "[*********************100%***********************]  1 of 1 completed\n",
            "NMDC.NS\n",
            "[*********************100%***********************]  1 of 1 completed\n",
            "CONCOR.NS\n",
            "[*********************100%***********************]  1 of 1 completed\n",
            "HONAUT.NS\n",
            "[*********************100%***********************]  1 of 1 completed\n",
            "PERSISTENT.NS\n",
            "[*********************100%***********************]  1 of 1 completed\n",
            "POLYCAB.NS\n",
            "[*********************100%***********************]  1 of 1 completed\n",
            "IGL.NS\n",
            "[*********************100%***********************]  1 of 1 completed\n",
            "COFORGE.NS\n",
            "[*********************100%***********************]  1 of 1 completed\n",
            "TATAELXSI.NS\n",
            "[*********************100%***********************]  1 of 1 completed\n",
            "OFSS.NS\n",
            "[*********************100%***********************]  1 of 1 completed\n",
            "MFSL.NS\n",
            "[*********************100%***********************]  1 of 1 completed\n",
            "ZEEL.NS\n",
            "[*********************100%***********************]  1 of 1 completed\n",
            "KANSAINER.NS\n",
            "[*********************100%***********************]  1 of 1 completed\n",
            "RELAXO.NS\n",
            "[*********************100%***********************]  1 of 1 completed\n",
            "MRF.NS\n",
            "[*********************100%***********************]  1 of 1 completed\n",
            "GLAXO.NS\n",
            "[*********************100%***********************]  1 of 1 completed\n",
            "LALPATHLAB.NS\n",
            "[*********************100%***********************]  1 of 1 completed\n",
            "3MINDIA.NS\n",
            "[*********************100%***********************]  1 of 1 completed\n",
            "SUPREMEIND.NS\n",
            "[*********************100%***********************]  1 of 1 completed\n",
            "SCHAEFFLER.NS\n",
            "[*********************100%***********************]  1 of 1 completed\n",
            "ATUL.NS\n",
            "[*********************100%***********************]  1 of 1 completed\n",
            "TANLA.NS\n",
            "[*********************100%***********************]  1 of 1 completed\n",
            "IPCALAB.NS\n",
            "[*********************100%***********************]  1 of 1 completed\n",
            "CLEAN.NS\n",
            "[*********************100%***********************]  1 of 1 completed\n",
            "CUMMINSIND.NS\n",
            "[*********************100%***********************]  1 of 1 completed\n",
            "ESCORTS.NS\n",
            "[*********************100%***********************]  1 of 1 completed\n",
            "GICRE.NS\n",
            "[*********************100%***********************]  1 of 1 completed\n",
            "EMAMILTD.NS\n",
            "[*********************100%***********************]  1 of 1 completed\n",
            "PFIZER.NS\n",
            "[*********************100%***********************]  1 of 1 completed\n",
            "IEX.NS\n",
            "[*********************100%***********************]  1 of 1 completed\n",
            "WHIRLPOOL.NS\n",
            "[*********************100%***********************]  1 of 1 completed\n",
            "NIACL.NS\n",
            "[*********************100%***********************]  1 of 1 completed\n",
            "RAJESHEXPO.NS\n",
            "[*********************100%***********************]  1 of 1 completed\n",
            "COROMANDEL.NS\n",
            "[*********************100%***********************]  1 of 1 completed\n",
            "CRISIL.NS\n",
            "[*********************100%***********************]  1 of 1 completed\n",
            "BAYERCROP.NS\n",
            "[*********************100%***********************]  1 of 1 completed\n",
            "\n",
            "1 Failed download:\n",
            "- NAM_INDIA.NS: No data found, symbol may be delisted\n",
            "[*********************100%***********************]  1 of 1 completed\n",
            "GILLETTE.NS\n",
            "[*********************100%***********************]  1 of 1 completed\n",
            "CARBORUNIV.NS\n"
          ]
        }
      ]
    },
    {
      "cell_type": "code",
      "metadata": {
        "id": "2MAon7Miiw27",
        "colab": {
          "base_uri": "https://localhost:8080/"
        },
        "outputId": "fb8e38e1-7bd5-4044-fa54-25a9a8989a80"
      },
      "source": [
        "print(s_level)\n",
        "print(s_date)\n",
        "print(s_comp)\n",
        "print(s_ltp)"
      ],
      "execution_count": null,
      "outputs": [
        {
          "output_type": "stream",
          "name": "stdout",
          "text": [
            "[1446.0, 1170.0, 19703.19921875, 167.5, 555.0499877929688, 1051.050048828125, 2835.300048828125, 3320.0, 3105.449951171875, 281.25, 2050.0, 5534.25, 647.0, 2150.0, 654.25, 1185.0, 116.5999984741211, 256.0, 137.64999389648438, 487.0, 2653.0, 509.45001220703125]\n",
            "[Timestamp('2021-04-15 00:00:00'), Timestamp('2021-08-25 00:00:00'), Timestamp('2021-09-30 00:00:00'), Timestamp('2021-05-06 00:00:00'), Timestamp('2021-05-24 00:00:00'), Timestamp('2021-01-05 00:00:00'), Timestamp('2021-05-05 00:00:00'), Timestamp('2021-04-30 00:00:00'), Timestamp('2021-03-30 00:00:00'), Timestamp('2021-09-22 00:00:00'), Timestamp('2021-11-30 00:00:00'), Timestamp('2021-07-22 00:00:00'), Timestamp('2021-01-05 00:00:00'), Timestamp('2021-12-02 00:00:00'), Timestamp('2021-02-01 00:00:00'), Timestamp('2021-02-01 00:00:00'), Timestamp('2021-11-23 00:00:00'), Timestamp('2021-12-08 00:00:00'), Timestamp('2021-08-23 00:00:00'), Timestamp('2021-04-08 00:00:00'), Timestamp('2021-07-15 00:00:00'), Timestamp('2021-04-30 00:00:00')]\n",
            "['ASTRAL.NS', 'HAL.NS', 'ABBOTINDIA.NS', 'NMDC.NS', 'CONCOR.NS', 'POLYCAB.NS', 'COFORGE.NS', 'TATAELXSI.NS', 'OFSS.NS', 'ZEEL.NS', 'SUPREMEIND.NS', 'SCHAEFFLER.NS', 'TANLA.NS', 'CLEAN.NS', 'CUMMINSIND.NS', 'ESCORTS.NS', 'GICRE.NS', 'IEX.NS', 'NIACL.NS', 'RAJESHEXPO.NS', 'CRISIL.NS', 'CARBORUNIV.NS']\n",
            "[2235.89990234375, 1237.3499755859375, 19050.650390625, 132.6999969482422, 611.7999877929688, 2396.35009765625, 5655.7001953125, 5529.10009765625, 3961.800048828125, 321.5, 2210.10009765625, 8596.75, 1804.800048828125, 2474.699951171875, 939.4000244140625, 1879.5, 135.8000030517578, 255.1999969482422, 138.6999969482422, 748.5999755859375, 2958.64990234375, 917.6500244140625]\n"
          ]
        }
      ]
    },
    {
      "cell_type": "code",
      "metadata": {
        "id": "RGUy00EiI4os"
      },
      "source": [
        "final_copm = []\n",
        "date_of_occ = []\n",
        "for i in range(len(s_level)) :\n",
        "  if s_level[i] >= s_ltp[i]:\n",
        "    final_copm.append(s_comp[i])\n",
        "    date_of_occ.append(s_date[i])"
      ],
      "execution_count": null,
      "outputs": []
    },
    {
      "cell_type": "code",
      "source": [
        "comp_df = pd.DataFrame({'company': final_copm, 'date': date_of_occ})\n"
      ],
      "metadata": {
        "id": "D_NQ44qLSBU0"
      },
      "execution_count": null,
      "outputs": []
    },
    {
      "cell_type": "code",
      "source": [
        "comp_df"
      ],
      "metadata": {
        "colab": {
          "base_uri": "https://localhost:8080/",
          "height": 144
        },
        "id": "cXIl-XoeShDo",
        "outputId": "30e834c1-3514-4fbc-d3f1-c771c8ad161f"
      },
      "execution_count": null,
      "outputs": [
        {
          "output_type": "execute_result",
          "data": {
            "text/html": [
              "\n",
              "  <div id=\"df-4066cc80-87f1-40da-bf4f-f817e68c0ffb\">\n",
              "    <div class=\"colab-df-container\">\n",
              "      <div>\n",
              "<style scoped>\n",
              "    .dataframe tbody tr th:only-of-type {\n",
              "        vertical-align: middle;\n",
              "    }\n",
              "\n",
              "    .dataframe tbody tr th {\n",
              "        vertical-align: top;\n",
              "    }\n",
              "\n",
              "    .dataframe thead th {\n",
              "        text-align: right;\n",
              "    }\n",
              "</style>\n",
              "<table border=\"1\" class=\"dataframe\">\n",
              "  <thead>\n",
              "    <tr style=\"text-align: right;\">\n",
              "      <th></th>\n",
              "      <th>company</th>\n",
              "      <th>date</th>\n",
              "    </tr>\n",
              "  </thead>\n",
              "  <tbody>\n",
              "    <tr>\n",
              "      <th>0</th>\n",
              "      <td>ABBOTINDIA.NS</td>\n",
              "      <td>2021-09-30</td>\n",
              "    </tr>\n",
              "    <tr>\n",
              "      <th>1</th>\n",
              "      <td>NMDC.NS</td>\n",
              "      <td>2021-05-06</td>\n",
              "    </tr>\n",
              "    <tr>\n",
              "      <th>2</th>\n",
              "      <td>IEX.NS</td>\n",
              "      <td>2021-12-08</td>\n",
              "    </tr>\n",
              "  </tbody>\n",
              "</table>\n",
              "</div>\n",
              "      <button class=\"colab-df-convert\" onclick=\"convertToInteractive('df-4066cc80-87f1-40da-bf4f-f817e68c0ffb')\"\n",
              "              title=\"Convert this dataframe to an interactive table.\"\n",
              "              style=\"display:none;\">\n",
              "        \n",
              "  <svg xmlns=\"http://www.w3.org/2000/svg\" height=\"24px\"viewBox=\"0 0 24 24\"\n",
              "       width=\"24px\">\n",
              "    <path d=\"M0 0h24v24H0V0z\" fill=\"none\"/>\n",
              "    <path d=\"M18.56 5.44l.94 2.06.94-2.06 2.06-.94-2.06-.94-.94-2.06-.94 2.06-2.06.94zm-11 1L8.5 8.5l.94-2.06 2.06-.94-2.06-.94L8.5 2.5l-.94 2.06-2.06.94zm10 10l.94 2.06.94-2.06 2.06-.94-2.06-.94-.94-2.06-.94 2.06-2.06.94z\"/><path d=\"M17.41 7.96l-1.37-1.37c-.4-.4-.92-.59-1.43-.59-.52 0-1.04.2-1.43.59L10.3 9.45l-7.72 7.72c-.78.78-.78 2.05 0 2.83L4 21.41c.39.39.9.59 1.41.59.51 0 1.02-.2 1.41-.59l7.78-7.78 2.81-2.81c.8-.78.8-2.07 0-2.86zM5.41 20L4 18.59l7.72-7.72 1.47 1.35L5.41 20z\"/>\n",
              "  </svg>\n",
              "      </button>\n",
              "      \n",
              "  <style>\n",
              "    .colab-df-container {\n",
              "      display:flex;\n",
              "      flex-wrap:wrap;\n",
              "      gap: 12px;\n",
              "    }\n",
              "\n",
              "    .colab-df-convert {\n",
              "      background-color: #E8F0FE;\n",
              "      border: none;\n",
              "      border-radius: 50%;\n",
              "      cursor: pointer;\n",
              "      display: none;\n",
              "      fill: #1967D2;\n",
              "      height: 32px;\n",
              "      padding: 0 0 0 0;\n",
              "      width: 32px;\n",
              "    }\n",
              "\n",
              "    .colab-df-convert:hover {\n",
              "      background-color: #E2EBFA;\n",
              "      box-shadow: 0px 1px 2px rgba(60, 64, 67, 0.3), 0px 1px 3px 1px rgba(60, 64, 67, 0.15);\n",
              "      fill: #174EA6;\n",
              "    }\n",
              "\n",
              "    [theme=dark] .colab-df-convert {\n",
              "      background-color: #3B4455;\n",
              "      fill: #D2E3FC;\n",
              "    }\n",
              "\n",
              "    [theme=dark] .colab-df-convert:hover {\n",
              "      background-color: #434B5C;\n",
              "      box-shadow: 0px 1px 3px 1px rgba(0, 0, 0, 0.15);\n",
              "      filter: drop-shadow(0px 1px 2px rgba(0, 0, 0, 0.3));\n",
              "      fill: #FFFFFF;\n",
              "    }\n",
              "  </style>\n",
              "\n",
              "      <script>\n",
              "        const buttonEl =\n",
              "          document.querySelector('#df-4066cc80-87f1-40da-bf4f-f817e68c0ffb button.colab-df-convert');\n",
              "        buttonEl.style.display =\n",
              "          google.colab.kernel.accessAllowed ? 'block' : 'none';\n",
              "\n",
              "        async function convertToInteractive(key) {\n",
              "          const element = document.querySelector('#df-4066cc80-87f1-40da-bf4f-f817e68c0ffb');\n",
              "          const dataTable =\n",
              "            await google.colab.kernel.invokeFunction('convertToInteractive',\n",
              "                                                     [key], {});\n",
              "          if (!dataTable) return;\n",
              "\n",
              "          const docLinkHtml = 'Like what you see? Visit the ' +\n",
              "            '<a target=\"_blank\" href=https://colab.research.google.com/notebooks/data_table.ipynb>data table notebook</a>'\n",
              "            + ' to learn more about interactive tables.';\n",
              "          element.innerHTML = '';\n",
              "          dataTable['output_type'] = 'display_data';\n",
              "          await google.colab.output.renderOutput(dataTable, element);\n",
              "          const docLink = document.createElement('div');\n",
              "          docLink.innerHTML = docLinkHtml;\n",
              "          element.appendChild(docLink);\n",
              "        }\n",
              "      </script>\n",
              "    </div>\n",
              "  </div>\n",
              "  "
            ],
            "text/plain": [
              "         company       date\n",
              "0  ABBOTINDIA.NS 2021-09-30\n",
              "1        NMDC.NS 2021-05-06\n",
              "2         IEX.NS 2021-12-08"
            ]
          },
          "metadata": {},
          "execution_count": 256
        }
      ]
    },
    {
      "cell_type": "code",
      "source": [
        "sma_comp"
      ],
      "metadata": {
        "colab": {
          "base_uri": "https://localhost:8080/"
        },
        "id": "prVw0psHf6Xr",
        "outputId": "68a088cd-4c93-4aa5-e304-84692b2ab96c"
      },
      "execution_count": null,
      "outputs": [
        {
          "output_type": "execute_result",
          "data": {
            "text/plain": [
              "['ACC.NS',\n",
              " 'NMDC.NS',\n",
              " 'CONCOR.NS',\n",
              " 'OFSS.NS',\n",
              " 'MRF.NS',\n",
              " 'GICRE.NS',\n",
              " 'EMAMILTD.NS',\n",
              " 'WHIRLPOOL.NS',\n",
              " 'NIACL.NS',\n",
              " 'GILLETTE.NS']"
            ]
          },
          "metadata": {},
          "execution_count": 257
        }
      ]
    },
    {
      "cell_type": "code",
      "source": [
        "bb_comp"
      ],
      "metadata": {
        "id": "Mzl_w59sfb9c",
        "colab": {
          "base_uri": "https://localhost:8080/"
        },
        "outputId": "33441c4b-5a3f-44b1-b1a1-4fe13691e1b1"
      },
      "execution_count": null,
      "outputs": [
        {
          "output_type": "execute_result",
          "data": {
            "text/plain": [
              "[]"
            ]
          },
          "metadata": {},
          "execution_count": 258
        }
      ]
    }
  ]
}